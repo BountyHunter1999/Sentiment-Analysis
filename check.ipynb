{
 "cells": [
  {
   "cell_type": "code",
   "execution_count": 1,
   "metadata": {},
   "outputs": [],
   "source": [
    "#imports\n",
    "import string # from some string manipulation tasks\n",
    "import nltk # natural language toolkit\n",
    "import re # regex\n",
    "from string import punctuation # solving punctuation problems\n",
    "from nltk.corpus import stopwords # stop words in sentences\n",
    "from nltk.stem import WordNetLemmatizer # For stemming the sentence\n",
    "from nltk.stem import SnowballStemmer # For stemming the sentence\n",
    "from contractions import contractions_dict # to solve contractions\n",
    "from autocorrect import Speller #correcting the spellings"
   ]
  },
  {
   "attachments": {},
   "cell_type": "markdown",
   "metadata": {},
   "source": [
    "# Sentiment we'll use\n",
    "1. Negative\n",
    "2. Somewhat Negative\n",
    "3. Neutral\n",
    "4. Somewhat positive\n",
    "5. Positive"
   ]
  },
  {
   "attachments": {},
   "cell_type": "markdown",
   "metadata": {},
   "source": [
    "# Analysis of data for basic understanding"
   ]
  },
  {
   "cell_type": "code",
   "execution_count": 2,
   "metadata": {},
   "outputs": [],
   "source": [
    "import numpy as np\n",
    "import pandas as pd"
   ]
  },
  {
   "cell_type": "code",
   "execution_count": 3,
   "metadata": {},
   "outputs": [],
   "source": [
    "# load the data\n",
    "train_data = pd.read_csv(\"train.tsv\", delimiter=\"\\t\", index_col=\"PhraseId\")"
   ]
  },
  {
   "cell_type": "code",
   "execution_count": 4,
   "metadata": {},
   "outputs": [
    {
     "data": {
      "text/html": [
       "<div>\n",
       "<style scoped>\n",
       "    .dataframe tbody tr th:only-of-type {\n",
       "        vertical-align: middle;\n",
       "    }\n",
       "\n",
       "    .dataframe tbody tr th {\n",
       "        vertical-align: top;\n",
       "    }\n",
       "\n",
       "    .dataframe thead th {\n",
       "        text-align: right;\n",
       "    }\n",
       "</style>\n",
       "<table border=\"1\" class=\"dataframe\">\n",
       "  <thead>\n",
       "    <tr style=\"text-align: right;\">\n",
       "      <th></th>\n",
       "      <th>SentenceId</th>\n",
       "      <th>Phrase</th>\n",
       "      <th>Sentiment</th>\n",
       "    </tr>\n",
       "    <tr>\n",
       "      <th>PhraseId</th>\n",
       "      <th></th>\n",
       "      <th></th>\n",
       "      <th></th>\n",
       "    </tr>\n",
       "  </thead>\n",
       "  <tbody>\n",
       "    <tr>\n",
       "      <th>1</th>\n",
       "      <td>1</td>\n",
       "      <td>A series of escapades demonstrating the adage ...</td>\n",
       "      <td>1</td>\n",
       "    </tr>\n",
       "    <tr>\n",
       "      <th>2</th>\n",
       "      <td>1</td>\n",
       "      <td>A series of escapades demonstrating the adage ...</td>\n",
       "      <td>2</td>\n",
       "    </tr>\n",
       "    <tr>\n",
       "      <th>3</th>\n",
       "      <td>1</td>\n",
       "      <td>A series</td>\n",
       "      <td>2</td>\n",
       "    </tr>\n",
       "    <tr>\n",
       "      <th>4</th>\n",
       "      <td>1</td>\n",
       "      <td>A</td>\n",
       "      <td>2</td>\n",
       "    </tr>\n",
       "    <tr>\n",
       "      <th>5</th>\n",
       "      <td>1</td>\n",
       "      <td>series</td>\n",
       "      <td>2</td>\n",
       "    </tr>\n",
       "  </tbody>\n",
       "</table>\n",
       "</div>"
      ],
      "text/plain": [
       "          SentenceId                                             Phrase   \n",
       "PhraseId                                                                  \n",
       "1                  1  A series of escapades demonstrating the adage ...  \\\n",
       "2                  1  A series of escapades demonstrating the adage ...   \n",
       "3                  1                                           A series   \n",
       "4                  1                                                  A   \n",
       "5                  1                                             series   \n",
       "\n",
       "          Sentiment  \n",
       "PhraseId             \n",
       "1                 1  \n",
       "2                 2  \n",
       "3                 2  \n",
       "4                 2  \n",
       "5                 2  "
      ]
     },
     "execution_count": 4,
     "metadata": {},
     "output_type": "execute_result"
    }
   ],
   "source": [
    "train_data.head()"
   ]
  },
  {
   "cell_type": "code",
   "execution_count": 5,
   "metadata": {},
   "outputs": [
    {
     "name": "stdout",
     "output_type": "stream",
     "text": [
      "<class 'pandas.core.frame.DataFrame'>\n",
      "Index: 156060 entries, 1 to 156060\n",
      "Data columns (total 3 columns):\n",
      " #   Column      Non-Null Count   Dtype \n",
      "---  ------      --------------   ----- \n",
      " 0   SentenceId  156060 non-null  int64 \n",
      " 1   Phrase      156060 non-null  object\n",
      " 2   Sentiment   156060 non-null  int64 \n",
      "dtypes: int64(2), object(1)\n",
      "memory usage: 4.8+ MB\n"
     ]
    }
   ],
   "source": [
    "train_data.info()"
   ]
  },
  {
   "cell_type": "code",
   "execution_count": 6,
   "metadata": {},
   "outputs": [
    {
     "data": {
      "text/plain": [
       "Sentiment\n",
       "2    79582\n",
       "3    32927\n",
       "1    27273\n",
       "4     9206\n",
       "0     7072\n",
       "Name: count, dtype: int64"
      ]
     },
     "execution_count": 6,
     "metadata": {},
     "output_type": "execute_result"
    }
   ],
   "source": [
    "# see the sentiment distribution\n",
    "train_data[\"Sentiment\"].value_counts()"
   ]
  },
  {
   "attachments": {},
   "cell_type": "markdown",
   "metadata": {},
   "source": [
    "### Visualization"
   ]
  },
  {
   "cell_type": "code",
   "execution_count": 7,
   "metadata": {},
   "outputs": [],
   "source": [
    "# ! pip install matplotlib seaborn"
   ]
  },
  {
   "cell_type": "code",
   "execution_count": 8,
   "metadata": {},
   "outputs": [],
   "source": [
    "import matplotlib.pyplot as plt\n",
    "import seaborn as sns\n",
    "import pylab as pl"
   ]
  },
  {
   "cell_type": "code",
   "execution_count": 9,
   "metadata": {},
   "outputs": [],
   "source": [
    "# introduce length column to represent length of each phrase in each row\n",
    "train_data[\"Length\"] = train_data[\"Phrase\"].apply(len) # doing len() won't work here"
   ]
  },
  {
   "cell_type": "code",
   "execution_count": 10,
   "metadata": {},
   "outputs": [
    {
     "data": {
      "text/plain": [
       "156060"
      ]
     },
     "execution_count": 10,
     "metadata": {},
     "output_type": "execute_result"
    }
   ],
   "source": [
    "len(train_data)"
   ]
  },
  {
   "cell_type": "code",
   "execution_count": 11,
   "metadata": {},
   "outputs": [
    {
     "data": {
      "text/plain": [
       "<Axes: ylabel='Frequency'>"
      ]
     },
     "execution_count": 11,
     "metadata": {},
     "output_type": "execute_result"
    },
    {
     "data": {
      "image/png": "[encoded data removed]",
      "text/plain": [
       "<Figure size 640x480 with 1 Axes>"
      ]
     },
     "metadata": {},
     "output_type": "display_data"
    }
   ],
   "source": [
    "# Histogram\n",
    "# based on the bins, we'll see in y which length is actually higher, thus the frequency\n",
    "train_data[\"Length\"].plot(kind=\"hist\", bins=50)"
   ]
  },
  {
   "cell_type": "code",
   "execution_count": 12,
   "metadata": {},
   "outputs": [
    {
     "data": {
      "text/plain": [
       "array([[<Axes: title={'center': 'Length'}>]], dtype=object)"
      ]
     },
     "execution_count": 12,
     "metadata": {},
     "output_type": "execute_result"
    },
    {
     "data": {
      "image/png": "[encoded data removed]",
      "text/plain": [
       "<Figure size 640x480 with 1 Axes>"
      ]
     },
     "metadata": {},
     "output_type": "display_data"
    }
   ],
   "source": [
    "\n",
    "train_data.hist(column=\"Length\", bins=50)"
   ]
  },
  {
   "cell_type": "code",
   "execution_count": 13,
   "metadata": {},
   "outputs": [
    {
     "data": {
      "text/plain": [
       "Text(0.5, 0.98, 'Lenth via each Sentiment')"
      ]
     },
     "execution_count": 13,
     "metadata": {},
     "output_type": "execute_result"
    },
    {
     "data": {
      "image/png": "[encoded data removed]",
      "text/plain": [
       "<Figure size 1000x1000 with 6 Axes>"
      ]
     },
     "metadata": {},
     "output_type": "display_data"
    }
   ],
   "source": [
    "# length of phrase via each sentiment\n",
    "ax = train_data.hist(column=\"Length\", by=\"Sentiment\", bins=50, figsize=(10, 10))\n",
    "pl.suptitle(\"Lenth via each Sentiment\")"
   ]
  },
  {
   "attachments": {},
   "cell_type": "markdown",
   "metadata": {},
   "source": [
    "> **Graph conclusion:** We can see that there are a lot of negative, and positive reviews that have lengths > 100 (the x-axis value). This means that when a customer is happy, or sad, they tend to write longer reviews compared to someone neutral"
   ]
  },
  {
   "attachments": {},
   "cell_type": "markdown",
   "metadata": {},
   "source": [
    "# Pipeline\n",
    "- we'll need a pipeline because any textual data used to test the model needs to be processed in the same way that the model is preprocessed, and calling these functions explicitly will be difficult. So, we'll combine each of the steps using the pipeline to simplify the task"
   ]
  },
  {
   "attachments": {},
   "cell_type": "markdown",
   "metadata": {},
   "source": [
    "## 1. Tokenziation"
   ]
  },
  {
   "cell_type": "code",
   "execution_count": 14,
   "metadata": {},
   "outputs": [],
   "source": [
    "# split the sentence into a list of sentences\n",
    "# Type 1 Tokenization\n",
    "def sentence_tokenize(text):\n",
    "    \"\"\"\n",
    "    Take string input and return a list of sentence\n",
    "    use nltk.sent_tokenize() to split the sentences.\n",
    "    \"\"\"\n",
    "    return nltk.sent_tokenize(text)"
   ]
  },
  {
   "cell_type": "code",
   "execution_count": 15,
   "metadata": {},
   "outputs": [],
   "source": [
    "# split the strings into a list of words\n",
    "# Type II Tokenize\n",
    "def word_tokenize(text):\n",
    "    \"\"\"\n",
    "    :param text:\n",
    "    :return: list of words\n",
    "    \"\"\"\n",
    "    return nltk.word_tokenize(text)"
   ]
  },
  {
   "cell_type": "code",
   "execution_count": 16,
   "metadata": {},
   "outputs": [],
   "source": [
    "# nltk.download() # to download the nltk related data"
   ]
  },
  {
   "cell_type": "code",
   "execution_count": 17,
   "metadata": {},
   "outputs": [],
   "source": [
    "# specify the nltk data path\n",
    "nltk.data.path.append(\"/Sentiment Analysis/nltk_data\")"
   ]
  },
  {
   "cell_type": "code",
   "execution_count": 18,
   "metadata": {},
   "outputs": [
    {
     "data": {
      "text/plain": [
       "PhraseId\n",
       "1         [A series of escapades demonstrating the adage...\n",
       "2         [A series of escapades demonstrating the adage...\n",
       "3                                                [A series]\n",
       "4                                                       [A]\n",
       "5                                                  [series]\n",
       "                                ...                        \n",
       "156056                                          [Hearst 's]\n",
       "156057                          [forced avuncular chortles]\n",
       "156058                                 [avuncular chortles]\n",
       "156059                                          [avuncular]\n",
       "156060                                           [chortles]\n",
       "Name: Phrase, Length: 156060, dtype: object"
      ]
     },
     "execution_count": 18,
     "metadata": {},
     "output_type": "execute_result"
    }
   ],
   "source": [
    "train_data[\"Phrase\"].apply(sentence_tokenize)"
   ]
  },
  {
   "cell_type": "code",
   "execution_count": 19,
   "metadata": {},
   "outputs": [
    {
     "data": {
      "text/plain": [
       "PhraseId\n",
       "1         [A, series, of, escapades, demonstrating, the,...\n",
       "2         [A, series, of, escapades, demonstrating, the,...\n",
       "3                                               [A, series]\n",
       "4                                                       [A]\n",
       "5                                                  [series]\n",
       "                                ...                        \n",
       "156056                                         [Hearst, 's]\n",
       "156057                        [forced, avuncular, chortles]\n",
       "156058                                [avuncular, chortles]\n",
       "156059                                          [avuncular]\n",
       "156060                                           [chortles]\n",
       "Name: Phrase, Length: 156060, dtype: object"
      ]
     },
     "execution_count": 19,
     "metadata": {},
     "output_type": "execute_result"
    }
   ],
   "source": [
    "train_data[\"Phrase\"].apply(word_tokenize)"
   ]
  },
  {
   "attachments": {},
   "cell_type": "markdown",
   "metadata": {},
   "source": [
    "## 2. Upper to Lower Case"
   ]
  },
  {
   "cell_type": "code",
   "execution_count": 20,
   "metadata": {},
   "outputs": [],
   "source": [
    "def to_lower(text):\n",
    "    \"\"\"\n",
    "    :param text:\n",
    "    :return:\n",
    "        Converted text to lower case\n",
    "        Eg: HELLO -> hello, Hello -> hello\n",
    "    \"\"\"\n",
    "    return text.lower()"
   ]
  },
  {
   "cell_type": "code",
   "execution_count": 21,
   "metadata": {},
   "outputs": [
    {
     "data": {
      "text/plain": [
       "PhraseId\n",
       "1         a series of escapades demonstrating the adage ...\n",
       "2         a series of escapades demonstrating the adage ...\n",
       "3                                                  a series\n",
       "4                                                         a\n",
       "5                                                    series\n",
       "                                ...                        \n",
       "156056                                            hearst 's\n",
       "156057                            forced avuncular chortles\n",
       "156058                                   avuncular chortles\n",
       "156059                                            avuncular\n",
       "156060                                             chortles\n",
       "Name: Phrase, Length: 156060, dtype: object"
      ]
     },
     "execution_count": 21,
     "metadata": {},
     "output_type": "execute_result"
    }
   ],
   "source": [
    "train_data[\"Phrase\"].apply(to_lower)"
   ]
  },
  {
   "attachments": {},
   "cell_type": "markdown",
   "metadata": {},
   "source": [
    "## 3. Check and Correct Misspells"
   ]
  },
  {
   "cell_type": "code",
   "execution_count": 33,
   "metadata": {},
   "outputs": [],
   "source": [
    "# skip if slow pc, as it might take even hours\n",
    "def autospell(text):\n",
    "    \"\"\"\n",
    "    Correct the spelling of the word.\n",
    "    \"\"\"\n",
    "    spell = Speller()\n",
    "    spells = [spell(w) for w in (nltk.word_tokenize(text))]\n",
    "    return \" \".join(spells)"
   ]
  },
  {
   "cell_type": "code",
   "execution_count": 24,
   "metadata": {},
   "outputs": [
    {
     "data": {
      "text/plain": [
       "PhraseId\n",
       "1      A series of escapes demonstrating the adage th...\n",
       "2      A series of escapes demonstrating the adage th...\n",
       "3                                               A series\n",
       "4                                                      A\n",
       "5                                                 series\n",
       "                             ...                        \n",
       "196                                       midwife crisis\n",
       "197                                              midwife\n",
       "198                                               crisis\n",
       "199    Narrative , Trouble Every Day is a padding mess .\n",
       "200                                            Narrative\n",
       "Name: Phrase, Length: 200, dtype: object"
      ]
     },
     "execution_count": 24,
     "metadata": {},
     "output_type": "execute_result"
    }
   ],
   "source": [
    "# correct the spelling for first 200 rows\n",
    "train_data['Phrase'][:200].apply(autospell) "
   ]
  },
  {
   "attachments": {},
   "cell_type": "markdown",
   "metadata": {},
   "source": [
    "## 4. Remove Punctuations"
   ]
  },
  {
   "cell_type": "code",
   "execution_count": 26,
   "metadata": {},
   "outputs": [],
   "source": [
    "def remove_punct(text):\n",
    "    return \"\".join(c for c in text if c not in punctuation)"
   ]
  },
  {
   "attachments": {},
   "cell_type": "markdown",
   "metadata": {},
   "source": [
    "## 5. Remove numbers"
   ]
  },
  {
   "cell_type": "code",
   "execution_count": 27,
   "metadata": {},
   "outputs": [],
   "source": [
    "# in our dataset numbers don't have any meaning\n",
    "def remove_numbers(text):\n",
    "    \"\"\"\n",
    "    take string input and return a clean text without numbers.\n",
    "    Use regex to discard the numbers.\n",
    "    \"\"\"\n",
    "    output = \"\".join(c for c in text if not c.isdigit())\n",
    "    return output"
   ]
  },
  {
   "cell_type": "code",
   "execution_count": 28,
   "metadata": {},
   "outputs": [
    {
     "data": {
      "text/plain": [
       "0     a\n",
       "1    be\n",
       "2     a\n",
       "dtype: object"
      ]
     },
     "execution_count": 28,
     "metadata": {},
     "output_type": "execute_result"
    }
   ],
   "source": [
    "z = pd.Series([\"a1\", \"b2e\", \"a3\"])\n",
    "z.apply(remove_numbers)"
   ]
  },
  {
   "attachments": {},
   "cell_type": "markdown",
   "metadata": {},
   "source": [
    "## 6. Remove the stopwords "
   ]
  },
  {
   "cell_type": "code",
   "execution_count": 29,
   "metadata": {},
   "outputs": [],
   "source": [
    "def remove_stopwords(sentence):\n",
    "    \"\"\"\n",
    "    removes all the stop words like \"is, the, a, etc.\"\n",
    "    \"\"\"\n",
    "    stop_words = stopwords.words(\"english\")\n",
    "    return \" \".join([w for w in nltk.word_tokenize(sentence) if not w in stop_words ])"
   ]
  },
  {
   "cell_type": "code",
   "execution_count": 30,
   "metadata": {},
   "outputs": [
    {
     "name": "stdout",
     "output_type": "stream",
     "text": [
      "PhraseId\n",
      "10    demonstrating the adage that what is good for ...\n",
      "11                              demonstrating the adage\n",
      "Name: Phrase, dtype: object\n"
     ]
    },
    {
     "data": {
      "text/plain": [
       "PhraseId\n",
       "10    demonstrating adage good goose\n",
       "11               demonstrating adage\n",
       "Name: Phrase, dtype: object"
      ]
     },
     "execution_count": 30,
     "metadata": {},
     "output_type": "execute_result"
    }
   ],
   "source": [
    "print(train_data[\"Phrase\"][9:11])\n",
    "train_data[\"Phrase\"][9:11].apply(remove_stopwords)"
   ]
  },
  {
   "attachments": {},
   "cell_type": "markdown",
   "metadata": {},
   "source": [
    "## 7. Normalization"
   ]
  },
  {
   "cell_type": "code",
   "execution_count": 31,
   "metadata": {},
   "outputs": [],
   "source": [
    "# since lemmatization return lemma or dictionary format and contain more meaning\n",
    "# we'll use it instead of stemming\n",
    "def lemmatize(text):\n",
    "    wordnet_lemmatizer = WordNetLemmatizer()\n",
    "    \n",
    "    lemmatized_word = [wordnet_lemmatizer.lemmatize(word) for word in nltk.word_tokenize(text)]\n",
    "    return \" \".join(lemmatized_word)"
   ]
  },
  {
   "cell_type": "code",
   "execution_count": 34,
   "metadata": {},
   "outputs": [],
   "source": [
    "def preprocess(text):\n",
    "    lower_text = to_lower(text)\n",
    "    # lower_text = autospell(lower_text)\n",
    "    sentence_tokens = sentence_tokenize(lower_text)\n",
    "    word_list = []\n",
    "    for each_sent in sentence_tokens:\n",
    "        lemmatizzed_sent = lemmatize(each_sent)\n",
    "        clean_text = remove_numbers(lemmatizzed_sent)\n",
    "        clean_text = remove_punct(clean_text)\n",
    "        clean_text = remove_stopwords(clean_text)\n",
    "        word_tokens = word_tokenize(clean_text)\n",
    "        for i in word_tokens:\n",
    "            word_list.append(i)\n",
    "    return word_list"
   ]
  },
  {
   "cell_type": "code",
   "execution_count": 35,
   "metadata": {},
   "outputs": [
    {
     "name": "stdout",
     "output_type": "stream",
     "text": [
      "PhraseId\n",
      "1    A series of escapades demonstrating the adage ...\n",
      "2    A series of escapades demonstrating the adage ...\n",
      "3                                             A series\n",
      "4                                                    A\n",
      "5                                               series\n",
      "Name: Phrase, dtype: object\n"
     ]
    },
    {
     "data": {
      "text/plain": [
       "PhraseId\n",
       "1    [series, escapade, demonstrating, adage, good,...\n",
       "2    [series, escapade, demonstrating, adage, good,...\n",
       "3                                             [series]\n",
       "4                                                   []\n",
       "5                                             [series]\n",
       "Name: Phrase, dtype: object"
      ]
     },
     "execution_count": 35,
     "metadata": {},
     "output_type": "execute_result"
    }
   ],
   "source": [
    "sample_data = train_data[\"Phrase\"].head(5)\n",
    "print(sample_data)\n",
    "sample_data.apply(preprocess)"
   ]
  },
  {
   "attachments": {},
   "cell_type": "markdown",
   "metadata": {},
   "source": [
    "# Transform to a machine learning model understandable form"
   ]
  },
  {
   "cell_type": "code",
   "execution_count": null,
   "metadata": {},
   "outputs": [],
   "source": []
  }
 ],
 "metadata": {
  "kernelspec": {
   "display_name": "venv",
   "language": "python",
   "name": "python3"
  },
  "language_info": {
   "codemirror_mode": {
    "name": "ipython",
    "version": 3
   },
   "file_extension": ".py",
   "mimetype": "text/x-python",
   "name": "python",
   "nbconvert_exporter": "python",
   "pygments_lexer": "ipython3",
   "version": "3.11.3"
  },
  "orig_nbformat": 4
 },
 "nbformat": 4,
 "nbformat_minor": 2
}
