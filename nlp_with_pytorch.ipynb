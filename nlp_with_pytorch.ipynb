{
 "cells": [
  {
   "attachments": {},
   "cell_type": "markdown",
   "metadata": {},
   "source": [
    "- Traditional machine learning algorithms, have some drawbacks when dealing with sequential data\n",
    "- This drawback is covered by [LSTMs](https://cnvrg.io/pytorch-lstm)  and RNN which are very good in sequential data.\n"
   ]
  },
  {
   "cell_type": "code",
   "execution_count": null,
   "metadata": {},
   "outputs": [],
   "source": []
  }
 ],
 "metadata": {
  "language_info": {
   "name": "python"
  },
  "orig_nbformat": 4
 },
 "nbformat": 4,
 "nbformat_minor": 2
}
