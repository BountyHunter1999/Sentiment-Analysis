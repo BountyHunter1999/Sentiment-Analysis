{
 "cells": [
  {
   "attachments": {},
   "cell_type": "markdown",
   "metadata": {},
   "source": [
    "[IMDB DATASET](https://www.kaggle.com/datasets/lakshmi25npathi/imdb-dataset-of-50k-movie-reviews?resource=download)"
   ]
  },
  {
   "cell_type": "code",
   "execution_count": 1,
   "metadata": {},
   "outputs": [],
   "source": [
    "# ! pip3 install torch --index-url https://download.pytorch.org/whl/cu118"
   ]
  },
  {
   "cell_type": "code",
   "execution_count": 2,
   "metadata": {},
   "outputs": [],
   "source": [
    "# ! pip install scikit-learn"
   ]
  },
  {
   "cell_type": "code",
   "execution_count": 3,
   "metadata": {},
   "outputs": [],
   "source": [
    "import numpy as np\n",
    "import pandas as pd\n",
    "import torch\n",
    "import nltk\n",
    "import torch.nn as nn # for our model class\n",
    "import torch.nn.functional as F\n",
    "from nltk.corpus import stopwords # to remove stop words\n",
    "from collections import Counter # to count unique numbers\n",
    "import string\n",
    "import re\n",
    "import seaborn as sns # for plotting\n",
    "import matplotlib.pyplot as plt # for plotting\n",
    "from torch.utils.data import TensorDataset, DataLoader # data prep\n",
    "from sklearn.model_selection import train_test_split # splitting the dataset for training and testing "
   ]
  },
  {
   "cell_type": "code",
   "execution_count": 4,
   "metadata": {},
   "outputs": [],
   "source": [
    "# specify the nltk data path\n",
    "nltk.data.path.append(\"/Sentiment Analysis/nltk_data\")"
   ]
  },
  {
   "cell_type": "code",
   "execution_count": 5,
   "metadata": {},
   "outputs": [
    {
     "name": "stdout",
     "output_type": "stream",
     "text": [
      "GPU is available\n"
     ]
    }
   ],
   "source": [
    "# Enable cuda (GPU) if exist. This allows for faster computation\n",
    "\n",
    "is_cuda = torch.cuda.is_available()\n",
    "if is_cuda:\n",
    "    device = torch.device(\"cuda\")\n",
    "    print(\"GPU is available\")\n",
    "else:\n",
    "    device = torch.device(\"cpu\")\n",
    "    print(\"GPU not available, CPU used\")\n"
   ]
  },
  {
   "cell_type": "code",
   "execution_count": 6,
   "metadata": {},
   "outputs": [
    {
     "data": {
      "text/html": [
       "<div>\n",
       "<style scoped>\n",
       "    .dataframe tbody tr th:only-of-type {\n",
       "        vertical-align: middle;\n",
       "    }\n",
       "\n",
       "    .dataframe tbody tr th {\n",
       "        vertical-align: top;\n",
       "    }\n",
       "\n",
       "    .dataframe thead th {\n",
       "        text-align: right;\n",
       "    }\n",
       "</style>\n",
       "<table border=\"1\" class=\"dataframe\">\n",
       "  <thead>\n",
       "    <tr style=\"text-align: right;\">\n",
       "      <th></th>\n",
       "      <th>review</th>\n",
       "      <th>sentiment</th>\n",
       "    </tr>\n",
       "  </thead>\n",
       "  <tbody>\n",
       "    <tr>\n",
       "      <th>0</th>\n",
       "      <td>One of the other reviewers has mentioned that ...</td>\n",
       "      <td>positive</td>\n",
       "    </tr>\n",
       "    <tr>\n",
       "      <th>1</th>\n",
       "      <td>A wonderful little production. &lt;br /&gt;&lt;br /&gt;The...</td>\n",
       "      <td>positive</td>\n",
       "    </tr>\n",
       "    <tr>\n",
       "      <th>2</th>\n",
       "      <td>I thought this was a wonderful way to spend ti...</td>\n",
       "      <td>positive</td>\n",
       "    </tr>\n",
       "    <tr>\n",
       "      <th>3</th>\n",
       "      <td>Basically there's a family where a little boy ...</td>\n",
       "      <td>negative</td>\n",
       "    </tr>\n",
       "    <tr>\n",
       "      <th>4</th>\n",
       "      <td>Petter Mattei's \"Love in the Time of Money\" is...</td>\n",
       "      <td>positive</td>\n",
       "    </tr>\n",
       "  </tbody>\n",
       "</table>\n",
       "</div>"
      ],
      "text/plain": [
       "                                              review sentiment\n",
       "0  One of the other reviewers has mentioned that ...  positive\n",
       "1  A wonderful little production. <br /><br />The...  positive\n",
       "2  I thought this was a wonderful way to spend ti...  positive\n",
       "3  Basically there's a family where a little boy ...  negative\n",
       "4  Petter Mattei's \"Love in the Time of Money\" is...  positive"
      ]
     },
     "execution_count": 6,
     "metadata": {},
     "output_type": "execute_result"
    }
   ],
   "source": [
    "df = pd.read_csv(\"IMDB Dataset.csv\")\n",
    "df.head()"
   ]
  },
  {
   "attachments": {},
   "cell_type": "markdown",
   "metadata": {},
   "source": [
    "# Split dataset into 2 portions, Training and Testing"
   ]
  },
  {
   "cell_type": "code",
   "execution_count": 7,
   "metadata": {},
   "outputs": [
    {
     "data": {
      "text/plain": [
       "(50000, 2)"
      ]
     },
     "execution_count": 7,
     "metadata": {},
     "output_type": "execute_result"
    }
   ],
   "source": [
    "df.shape"
   ]
  },
  {
   "attachments": {},
   "cell_type": "markdown",
   "metadata": {},
   "source": [
    "- The `stratify` parameter in the `train_test_split` function ensures that the class distribution in the target labels is preserved in both the training and testing set\n",
    "- By using `stratify=y`, the splitting process will attempt to maintain the same class proportions in both the training and testing sets."
   ]
  },
  {
   "cell_type": "code",
   "execution_count": 8,
   "metadata": {},
   "outputs": [
    {
     "name": "stdout",
     "output_type": "stream",
     "text": [
      "Shape of train data is (37500,)\n",
      "Shape of test data is (12500,)\n"
     ]
    }
   ],
   "source": [
    "X, y = df[\"review\"].values, df[\"sentiment\"].values\n",
    "x_train, x_test, y_train, y_test = train_test_split(X, y, stratify=y)\n",
    "print(f\"Shape of train data is {x_train.shape}\")\n",
    "print(f\"Shape of test data is {x_test.shape}\")"
   ]
  },
  {
   "cell_type": "code",
   "execution_count": 9,
   "metadata": {},
   "outputs": [
    {
     "data": {
      "image/png": "[encoded data removed]",
      "text/plain": [
       "<Figure size 640x480 with 1 Axes>"
      ]
     },
     "metadata": {},
     "output_type": "display_data"
    }
   ],
   "source": [
    "dd = pd.Series(y_train).value_counts()\n",
    "# sns.barplot(x=np.array(['negative','positive']),y=dd.values)\n",
    "sns.barplot(x=['negative','positive'],y=dd.values)\n",
    "plt.show()"
   ]
  },
  {
   "cell_type": "code",
   "execution_count": 10,
   "metadata": {},
   "outputs": [
    {
     "data": {
      "text/plain": [
       "negative    18750\n",
       "positive    18750\n",
       "Name: count, dtype: int64"
      ]
     },
     "execution_count": 10,
     "metadata": {},
     "output_type": "execute_result"
    }
   ],
   "source": [
    "dd"
   ]
  },
  {
   "cell_type": "code",
   "execution_count": 11,
   "metadata": {},
   "outputs": [
    {
     "data": {
      "text/plain": [
       "array([18750, 18750], dtype=int64)"
      ]
     },
     "execution_count": 11,
     "metadata": {},
     "output_type": "execute_result"
    }
   ],
   "source": [
    "dd.values"
   ]
  },
  {
   "attachments": {},
   "cell_type": "markdown",
   "metadata": {},
   "source": [
    "# PreProcess Data"
   ]
  },
  {
   "cell_type": "code",
   "execution_count": 12,
   "metadata": {},
   "outputs": [],
   "source": [
    "def preprocess_string(s):\n",
    "    # Remove all non-word characters, ^\\w\\s except word and space\n",
    "    s = re.sub(r\"[^\\w\\s]\", \"\", s)\n",
    "    # Repalce all runs of whitespaces with no space\n",
    "    s = re.sub(r\"\\s+\", \"\", s)\n",
    "    # replace digits with no space\n",
    "    s = re.sub(r\"\\d\", \"\", s)\n",
    "\n",
    "    return s"
   ]
  },
  {
   "cell_type": "code",
   "execution_count": 13,
   "metadata": {},
   "outputs": [],
   "source": [
    "            # final_list_train.append([\n",
    "            #     onehot_dict[preprocess_string(word)]\n",
    "            #     for word in sent.lower().split \n",
    "            #     if preprocess_string(word) in onehot_dict.keys()])"
   ]
  },
  {
   "cell_type": "code",
   "execution_count": 14,
   "metadata": {},
   "outputs": [],
   "source": [
    "def remove_stop_words(data):\n",
    "    word_list = []\n",
    "    stop_words = set(stopwords.words(\"english\"))\n",
    "    for sent in data:\n",
    "        for word in sent.lower().split():  # lower case sentence splitted in list\n",
    "            word = preprocess_string(word) # preprocess that word\n",
    "            if word not in stop_words and word != \"\":\n",
    "                word_list.append(word) # if not stop word then append\n",
    "    return word_list"
   ]
  },
  {
   "cell_type": "code",
   "execution_count": 15,
   "metadata": {},
   "outputs": [
    {
     "data": {
      "text/plain": [
       "array(['When naïve young Eddie Hatch, a window dresser at Savory\\'s Department Store, falls for a statue of Venus and gives her a chaste kiss, Venus steps off her pedestal and gives Eddie more than he bargained for. This creaking example of what Hollywood can do to a Broadway musical manages to emphasize the inane story and eliminate most of the first-rate songs. The purpose was to make a safe, popular movie without too much investment while capitalizing on Ava Gardner\\'s upward mobility to super stardom. Robert Walker as Eddie gets lost in a thankless role. Eddie\\'s not just naive, but dithering and hapless. Gardner is gorgeous, but the only things that give the movie any life are Olga San Juan as Eddie\\'s loving but jealous girl friend, Tom Conway as the suave owner of Savory\\'s and Eve Arden as Savory\\'s long time, wise cracking secretary. It\\'s a role Arden could play in her sleep, and she\\'s good at it. <br /><br />The musical opened on Broadway in 1943 and made Mary Martin a big-time star. The only point of a musical, however, is to have music. Since One Touch of Venus was intended to be a social satire of sorts, Kurt Weill, composing, and Ogden Nash writing the lyrics, came up with a series of stylish, witty songs and one masterpiece. Without the satire, or the clever songs or Martin (or an equivalent showstopper), the movie becomes just a weak comedy fantasy where much of the comedy is predictable and the fantasy is worked to death. <br /><br />Not only did the producers of the movie toss out almost all the Weill/Nash songs, they brought in the movie\\'s music director, Ann Ronell, to write new lyrics for one of the songs that survived, turning sharp observation into lovey-dovey romance. Ronell was no hack; she wrote Willow Weep for Me. Wonder what she thought about while she replaced or tweaked Ogden Nash\\'s clever work. <br /><br />The one bright spot in the movie is that Weill/Nash masterpiece. \"Speak Low\" is as great a love song as anyone ever wrote. It\\'s given one of those ultra-professional and lifeless treatments by Eileen Wilson dubbing Gardner. Dick Haymes contributes a chorus. <br /><br />As for Ann Ronell, she was one of the few women in Hollywood to become a major music director, as well as composer and lyric writer. Yours for a Song: The Women of Tin Pan Alley is a fascinating documentary of some of the women who made it in the business, including Ronell, Kay Swift, Dorothy Fields and Dana Suess. And for those who would like to hear what little of the Weill/Nash score was recorded by the original Broadway cast, you might be able to track down the CD, One Touch Of Venus (1943 Original Cast) / Lute Song (1946 Original Cast). The music is paired with Lute Song, another Broadway show that starred Martin.'],\n",
       "      dtype=object)"
      ]
     },
     "execution_count": 15,
     "metadata": {},
     "output_type": "execute_result"
    }
   ],
   "source": [
    "x_train[:1]"
   ]
  },
  {
   "cell_type": "code",
   "execution_count": 16,
   "metadata": {},
   "outputs": [
    {
     "data": {
      "text/plain": [
       "<function str.split(sep=None, maxsplit=-1)>"
      ]
     },
     "execution_count": 16,
     "metadata": {},
     "output_type": "execute_result"
    }
   ],
   "source": [
    "x_train[0].split"
   ]
  },
  {
   "cell_type": "code",
   "execution_count": 17,
   "metadata": {},
   "outputs": [
    {
     "name": "stdout",
     "output_type": "stream",
     "text": [
      "['naïve', 'young', 'eddie', 'hatch', 'window', 'dresser', 'savorys', 'department', 'store', 'falls', 'statue', 'venus', 'gives', 'chaste', 'kiss', 'venus', 'steps', 'pedestal', 'gives', 'eddie', 'bargained', 'creaking', 'example', 'hollywood', 'broadway', 'musical', 'manages', 'emphasize', 'inane', 'story', 'eliminate', 'firstrate', 'songs', 'purpose', 'make', 'safe', 'popular', 'movie', 'without', 'much', 'investment', 'capitalizing', 'ava', 'gardners', 'upward', 'mobility', 'super', 'stardom', 'robert', 'walker', 'eddie', 'gets', 'lost', 'thankless', 'role', 'eddies', 'naive', 'dithering', 'hapless', 'gardner', 'gorgeous', 'things', 'give', 'movie', 'life', 'olga', 'san', 'juan', 'eddies', 'loving', 'jealous', 'girl', 'friend', 'tom', 'conway', 'suave', 'owner', 'savorys', 'eve', 'arden', 'savorys', 'long', 'time', 'wise', 'cracking', 'secretary', 'role', 'arden', 'could', 'play', 'sleep', 'shes', 'good', 'br', 'br', 'musical', 'opened', 'broadway', 'made', 'mary', 'martin', 'bigtime', 'star', 'point', 'musical', 'however', 'music', 'since', 'one', 'touch', 'venus', 'intended', 'social', 'satire', 'sorts', 'kurt', 'weill', 'composing', 'ogden', 'nash', 'writing', 'lyrics', 'came', 'series', 'stylish', 'witty', 'songs', 'one', 'masterpiece', 'without', 'satire', 'clever', 'songs', 'martin', 'equivalent', 'showstopper', 'movie', 'becomes', 'weak', 'comedy', 'fantasy', 'much', 'comedy', 'predictable', 'fantasy', 'worked', 'death', 'br', 'br', 'producers', 'movie', 'toss', 'almost', 'weillnash', 'songs', 'brought', 'movies', 'music', 'director', 'ann', 'ronell', 'write', 'new', 'lyrics', 'one', 'songs', 'survived', 'turning', 'sharp', 'observation', 'loveydovey', 'romance', 'ronell', 'hack', 'wrote', 'willow', 'weep', 'wonder', 'thought', 'replaced', 'tweaked', 'ogden', 'nashs', 'clever', 'work', 'br', 'br', 'one', 'bright', 'spot', 'movie', 'weillnash', 'masterpiece', 'speak', 'low', 'great', 'love', 'song', 'anyone', 'ever', 'wrote', 'given', 'one', 'ultraprofessional', 'lifeless', 'treatments', 'eileen', 'wilson', 'dubbing', 'gardner', 'dick', 'haymes', 'contributes', 'chorus', 'br', 'br', 'ann', 'ronell', 'one', 'women', 'hollywood', 'become', 'major', 'music', 'director', 'well', 'composer', 'lyric', 'writer', 'song', 'women', 'tin', 'pan', 'alley', 'fascinating', 'documentary', 'women', 'made', 'business', 'including', 'ronell', 'kay', 'swift', 'dorothy', 'fields', 'dana', 'suess', 'would', 'like', 'hear', 'little', 'weillnash', 'score', 'recorded', 'original', 'broadway', 'cast', 'might', 'able', 'track', 'cd', 'one', 'touch', 'venus', 'original', 'cast', 'lute', 'song', 'original', 'cast', 'music', 'paired', 'lute', 'song', 'another', 'broadway', 'show', 'starred', 'martin']\n"
     ]
    }
   ],
   "source": [
    "print(remove_stop_words(x_train[:1]))"
   ]
  },
  {
   "cell_type": "code",
   "execution_count": 18,
   "metadata": {},
   "outputs": [],
   "source": [
    "word_counter = Counter(remove_stop_words(x_train[:1]))"
   ]
  },
  {
   "cell_type": "code",
   "execution_count": 19,
   "metadata": {},
   "outputs": [
    {
     "data": {
      "text/plain": [
       "1"
      ]
     },
     "execution_count": 19,
     "metadata": {},
     "output_type": "execute_result"
    }
   ],
   "source": [
    "word_counter.get(\"give\")"
   ]
  },
  {
   "cell_type": "code",
   "execution_count": 20,
   "metadata": {},
   "outputs": [
    {
     "data": {
      "text/plain": [
       "['br',\n",
       " 'one',\n",
       " 'songs',\n",
       " 'movie',\n",
       " 'venus',\n",
       " 'broadway',\n",
       " 'music',\n",
       " 'ronell',\n",
       " 'song',\n",
       " 'eddie']"
      ]
     },
     "execution_count": 20,
     "metadata": {},
     "output_type": "execute_result"
    }
   ],
   "source": [
    "count_list = sorted(word_counter, key=word_counter.get, reverse=True)[:10]\n",
    "count_list"
   ]
  },
  {
   "cell_type": "code",
   "execution_count": 21,
   "metadata": {},
   "outputs": [
    {
     "data": {
      "text/plain": [
       "{'br': 1,\n",
       " 'one': 2,\n",
       " 'songs': 3,\n",
       " 'movie': 4,\n",
       " 'venus': 5,\n",
       " 'broadway': 6,\n",
       " 'music': 7,\n",
       " 'ronell': 8,\n",
       " 'song': 9,\n",
       " 'eddie': 10}"
      ]
     },
     "execution_count": 21,
     "metadata": {},
     "output_type": "execute_result"
    }
   ],
   "source": [
    "global_hot_dict = {w:i+1 for i,w in enumerate(count_list)}\n",
    "global_hot_dict"
   ]
  },
  {
   "cell_type": "code",
   "execution_count": 22,
   "metadata": {},
   "outputs": [],
   "source": [
    "def get_number_of_word(data, onehot_dict):\n",
    "    # picking the number of the word after preprocessing it\n",
    "    final_list_data = []\n",
    "    for sent in data:\n",
    "        # final_list_data.extend(\n",
    "        final_list_data.append(\n",
    "            [\n",
    "                onehot_dict[preprocess_string(word)]\n",
    "                for word in sent.lower().split()\n",
    "                if preprocess_string(word) in onehot_dict.keys()\n",
    "            ]\n",
    "        )\n",
    "    return final_list_data"
   ]
  },
  {
   "cell_type": "code",
   "execution_count": 23,
   "metadata": {},
   "outputs": [],
   "source": [
    "def encode_label(data):\n",
    "    return [1 if label =='positive' else 0 for label in data] "
   ]
  },
  {
   "cell_type": "code",
   "execution_count": 24,
   "metadata": {},
   "outputs": [],
   "source": [
    "from dataclasses import dataclass\n",
    "\n",
    "@dataclass\n",
    "class Tokenize:\n",
    "    # x_train: np.array\n",
    "    x_train: list\n",
    "    y_train: list\n",
    "    # x_test: np.array\n",
    "    x_test: list\n",
    "    y_test: list\n",
    "    vocab: dict"
   ]
  },
  {
   "cell_type": "code",
   "execution_count": 25,
   "metadata": {},
   "outputs": [],
   "source": [
    "def tokenize(x_train, y_train, x_val, y_val):\n",
    "    word_list = remove_stop_words(x_train)\n",
    "\n",
    "    corpus = Counter(word_list) # counting the words occurence\n",
    "    # sorting on the basis of most common words\n",
    "    corpus_ = sorted(corpus,key=corpus.get,reverse=True)[:1000]\n",
    "\n",
    "    # creating a dict\n",
    "    # this will create a dictionary with their numbers based on most common words\n",
    "    onehot_dict = {w:i+1 for i,w in enumerate(corpus_)}\n",
    "\n",
    "    # tokenize\n",
    "    final_list_train = get_number_of_word(x_train, onehot_dict)\n",
    "    final_list_test = get_number_of_word(x_val, onehot_dict)\n",
    "\n",
    "    # encoding the labels \n",
    "    encoded_train = encode_label(y_train)\n",
    "    encoded_test = encode_label(y_val)\n",
    "\n",
    "    #returning these 4 values\n",
    "    # result = Tokenize(np.array(final_list_train), np.array(encoded_train), np.array(final_list_test), np.array(encoded_test), onehot_dict)\n",
    "    result = Tokenize(final_list_train, np.array(encoded_train), final_list_test, np.array(encoded_test), onehot_dict)\n",
    "    return result\n"
   ]
  },
  {
   "cell_type": "code",
   "execution_count": 26,
   "metadata": {},
   "outputs": [],
   "source": [
    "tokenized_output = tokenize(x_train,y_train,x_test,y_test)"
   ]
  },
  {
   "cell_type": "code",
   "execution_count": 27,
   "metadata": {},
   "outputs": [
    {
     "name": "stdout",
     "output_type": "stream",
     "text": [
      "Length of vocabulary is 1000\n"
     ]
    }
   ],
   "source": [
    "print(f'Length of vocabulary is {len(tokenized_output.vocab)}') "
   ]
  },
  {
   "cell_type": "code",
   "execution_count": 28,
   "metadata": {},
   "outputs": [
    {
     "data": {
      "image/png": "[encoded data removed]",
      "text/plain": [
       "<Figure size 640x480 with 1 Axes>"
      ]
     },
     "metadata": {},
     "output_type": "display_data"
    },
    {
     "data": {
      "text/plain": [
       "count    37500.000000\n",
       "mean        69.216507\n",
       "std         48.132736\n",
       "min          0.000000\n",
       "25%         39.000000\n",
       "50%         54.000000\n",
       "75%         84.000000\n",
       "max        561.000000\n",
       "dtype: float64"
      ]
     },
     "execution_count": 28,
     "metadata": {},
     "output_type": "execute_result"
    }
   ],
   "source": [
    "# analyze the length of the sequences in order to padd them\n",
    "rev_len = [len(i) for i in tokenized_output.x_train]\n",
    "pd.Series(rev_len).hist()\n",
    "plt.show()\n",
    "pd.Series(rev_len).describe()"
   ]
  },
  {
   "attachments": {},
   "cell_type": "markdown",
   "metadata": {},
   "source": [
    "- Most of the reviews lie between 0-100 and some of them lie in 200-400 range"
   ]
  },
  {
   "attachments": {},
   "cell_type": "markdown",
   "metadata": {},
   "source": [
    "## Padding\n",
    "- Since the reviews are not of the same length we'll need to pad the sequences\n",
    "- Many different research papers suggested that padding 0s to the sequence tend to improve the performance of the model a lot\n",
    "- In order to make sure that no information is missed out, we can padd the sequences to the maximum sequence length which is nearly 400-500 as shown in graph. \n",
    "    - we've very less # of reviews with length > 500"
   ]
  },
  {
   "cell_type": "code",
   "execution_count": 29,
   "metadata": {},
   "outputs": [],
   "source": [
    "def padding_(sentences, seq_len):\n",
    "    features = np.zeros((len(sentences), seq_len),dtype=int)\n",
    "    for ii, review in enumerate(sentences):\n",
    "        if len(review) != 0:\n",
    "            features[ii, -len(review):] = np.array(review)[:seq_len]\n",
    "    return features "
   ]
  },
  {
   "cell_type": "code",
   "execution_count": 30,
   "metadata": {},
   "outputs": [],
   "source": [
    "# def padding(sentences, seq_len):\n",
    "#     features = []\n",
    "#     for review in sentences:\n",
    "#         padded_review = review[:seq_len] + [0] * max(0, seq_len - len(review))\n",
    "#         features.append(padded_review[:seq_len])\n",
    "#     return np.array(features, dtype=int)"
   ]
  },
  {
   "cell_type": "code",
   "execution_count": 31,
   "metadata": {},
   "outputs": [],
   "source": [
    "x_train_pad = padding_(tokenized_output.x_train, 500)\n",
    "x_test_pad = padding_(tokenized_output.x_test, 500)"
   ]
  },
  {
   "cell_type": "code",
   "execution_count": 32,
   "metadata": {},
   "outputs": [
    {
     "data": {
      "text/plain": [
       "((37500, 500), (12500, 500))"
      ]
     },
     "execution_count": 32,
     "metadata": {},
     "output_type": "execute_result"
    }
   ],
   "source": [
    "x_train_pad.shape, x_test_pad.shape"
   ]
  },
  {
   "attachments": {},
   "cell_type": "markdown",
   "metadata": {},
   "source": [
    "# Initializing for PyTorch"
   ]
  },
  {
   "cell_type": "code",
   "execution_count": 34,
   "metadata": {},
   "outputs": [
    {
     "data": {
      "text/plain": [
       "dtype('int32')"
      ]
     },
     "execution_count": 34,
     "metadata": {},
     "output_type": "execute_result"
    }
   ],
   "source": [
    "x_train_pad.dtype"
   ]
  },
  {
   "cell_type": "code",
   "execution_count": 37,
   "metadata": {},
   "outputs": [
    {
     "data": {
      "text/plain": [
       "dtype('O')"
      ]
     },
     "execution_count": 37,
     "metadata": {},
     "output_type": "execute_result"
    }
   ],
   "source": [
    "# this isn't supported so we'll change its type\n",
    "y_train.dtype"
   ]
  },
  {
   "cell_type": "code",
   "execution_count": 42,
   "metadata": {},
   "outputs": [
    {
     "data": {
      "text/plain": [
       "dtype('int32')"
      ]
     },
     "execution_count": 42,
     "metadata": {},
     "output_type": "execute_result"
    }
   ],
   "source": [
    "tokenized_output.y_train.dtype"
   ]
  },
  {
   "cell_type": "code",
   "execution_count": 41,
   "metadata": {},
   "outputs": [],
   "source": [
    "# create Tensor datasets\n",
    "train_data = TensorDataset(torch.from_numpy(x_train_pad), torch.from_numpy(tokenized_output.y_train))\n",
    "valid_data = TensorDataset(torch.from_numpy(x_test_pad), torch.from_numpy(tokenized_output.y_test))\n",
    "\n",
    "# batch size\n",
    "batch_size = 50\n",
    "\n",
    "#shuffling\n",
    "train_loader = DataLoader(train_data, shuffle=True, batch_size=batch_size)\n",
    "valid_loader = DataLoader(valid_data, shuffle=True, batch_size=batch_size)"
   ]
  },
  {
   "cell_type": "code",
   "execution_count": 50,
   "metadata": {},
   "outputs": [
    {
     "data": {
      "text/plain": [
       "((tensor([[  0,   0,   0,  ..., 490,  64,  42],\n",
       "          [  0,   0,   0,  ...,  32, 145,  60],\n",
       "          [  0,   0,   0,  ...,  54, 122,   1],\n",
       "          ...,\n",
       "          [  0,   0,   0,  ...,  27,  30, 126],\n",
       "          [  0,   0,   0,  ..., 539,  29, 170],\n",
       "          [  0,   0,   0,  ..., 202,  31, 117]], dtype=torch.int32),\n",
       "  tensor([0, 1, 0,  ..., 1, 1, 1], dtype=torch.int32)),\n",
       " 2)"
      ]
     },
     "execution_count": 50,
     "metadata": {},
     "output_type": "execute_result"
    }
   ],
   "source": [
    "train_data.tensors, len(train_data.tensors)"
   ]
  },
  {
   "attachments": {},
   "cell_type": "markdown",
   "metadata": {},
   "source": [
    "# Define LSTM model with word embeddings\n",
    "## Word Embeddings\n",
    " Word embeddings are a popular technique used in natural language processing (NLP) to represent words as dense vector representations in a continuous vector space. \n",
    "    - They capture semantic and syntactic relationships between words, allowing machine learning models to understand the meaning and context of words\n",
    "\n",
    "## What we'll use?\n",
    "- we'll use simple Word Embedding layer, but we can use pre-trained layers to further improve the model results"
   ]
  },
  {
   "attachments": {},
   "cell_type": "markdown",
   "metadata": {},
   "source": [
    "---\n",
    "- init_hidden state: this tends to affect the performance\n",
    "    - [Pytorch Official Discussion](https://discuss.pytorch.org/t/when-to-initialize-lstm-hidden-state/2323/2)"
   ]
  },
  {
   "cell_type": "code",
   "execution_count": 68,
   "metadata": {},
   "outputs": [],
   "source": [
    "class SentimentRNN(nn.Module): # class name\n",
    "    def __init__(self,no_layers,vocab_size,hidden_dim, output_dim, embedding_dim, drop_prob=0.4): \n",
    "        super(SentimentRNN,self).__init__() # initializing base class\n",
    "\n",
    "        self.output_dim = output_dim # output dimensions\n",
    "        self.hidden_dim = hidden_dim # hidden dimensions\n",
    "\n",
    "        self.no_layers = no_layers # number of layers\n",
    "        self.vocab_size = vocab_size # vocabulary size\n",
    "\n",
    "        # embedding \n",
    "        # embedding of vocabulary size and embedding dimensions\n",
    "        self.embedding = nn.Embedding(vocab_size, embedding_dim)\n",
    "\n",
    "        #lstm\n",
    "        self.lstm = nn.LSTM(input_size=embedding_dim,hidden_size=self.hidden_dim,\n",
    "                           num_layers=no_layers, batch_first=True)\n",
    "\n",
    "        # dropout layer\n",
    "        self.dropout = nn.Dropout(drop_prob) \n",
    "    \n",
    "        # linear and sigmoid layer\n",
    "        self.fc0 = nn.Linear(self.hidden_dim, 512) # first drop out\n",
    "        self.fc1 = nn.Linear(512, 256) # 1st fc layer\n",
    "        self.dropout1 = nn.Dropout(0.2) # 2nd drop out\n",
    "        self.fc = nn.Linear(256, output_dim) # 2nd fully connected layer\n",
    "        self.sig = nn.Sigmoid() # for last layer\n",
    "\n",
    "    def forward(self, x, hidden):\n",
    "        batch_size = x.size(0) # fetching batch size\n",
    "        # embeddings and lstm_out\n",
    "        # shape: Batch x S x Feature   since batch = True\n",
    "        embeds = self.embedding(x)\n",
    "        # passing our embedded layer into lstm\n",
    "        lstm_out, hidden = self.lstm(embeds, hidden) \n",
    "        # reshaping the lstm output, so we can pass it to fully connected layers\n",
    "        lstm_out = lstm_out.contiguous().view(-1, self.hidden_dim)\n",
    "\n",
    "        # dropout and fully connected layer\n",
    "        out = self.dropout(lstm_out) \n",
    "        out = self.fc0(out)\n",
    "        out = self.dropout1(out)\n",
    "        out = self.fc1(out)\n",
    "        out = self.fc(out)\n",
    "\n",
    "        # sigmoid function for binary classification output\n",
    "        sig_out = self.sig(out) \n",
    "\n",
    "        # reshape to be batch_size first\n",
    "        sig_out = sig_out.view(batch_size, -1)\n",
    "\n",
    "        sig_out = sig_out[:, -1] # get last batch of labels\n",
    "\n",
    "        # return last sigmoid output and hidden state\n",
    "        return sig_out, hidden\n",
    "\n",
    "    def init_hidden(self, batch_size):\n",
    "        ''' Initializes hidden state '''\n",
    "        # Create two new tensors with sizes n_layers x batch_size x hidden_dim,\n",
    "        # initialized to zero, for hidden state and cell state of LSTM\n",
    "        h0 = torch.zeros((self.no_layers, batch_size, self.hidden_dim)).to(device)\n",
    "        c0 = torch.zeros((self.no_layers, batch_size, self.hidden_dim)).to(device)\n",
    "        hidden = (h0, c0)\n",
    "        return hidden\n",
    " "
   ]
  },
  {
   "cell_type": "code",
   "execution_count": 69,
   "metadata": {},
   "outputs": [
    {
     "data": {
      "text/plain": [
       "1000"
      ]
     },
     "execution_count": 69,
     "metadata": {},
     "output_type": "execute_result"
    }
   ],
   "source": [
    "len(tokenized_output.vocab)"
   ]
  },
  {
   "cell_type": "code",
   "execution_count": 70,
   "metadata": {},
   "outputs": [
    {
     "data": {
      "text/plain": [
       "SentimentRNN(\n",
       "  (embedding): Embedding(1001, 64)\n",
       "  (lstm): LSTM(64, 256, num_layers=4, batch_first=True)\n",
       "  (dropout): Dropout(p=0.5, inplace=False)\n",
       "  (fc0): Linear(in_features=256, out_features=512, bias=True)\n",
       "  (fc1): Linear(in_features=512, out_features=256, bias=True)\n",
       "  (dropout1): Dropout(p=0.2, inplace=False)\n",
       "  (fc): Linear(in_features=256, out_features=1, bias=True)\n",
       "  (sig): Sigmoid()\n",
       ")"
      ]
     },
     "execution_count": 70,
     "metadata": {},
     "output_type": "execute_result"
    }
   ],
   "source": [
    "no_layers = 4 # 4 hidden LSTM stacked layers\n",
    "vocab_size = len(tokenized_output.vocab) + 1 # extra 1 for padding\n",
    "embedding_dim = 64 #  embedding dimensions\n",
    "output_dim = 1 # single output 1 or 0\n",
    "hidden_dim = 256 #  hidden dimensions\n",
    "model = SentimentRNN(no_layers, vocab_size, hidden_dim, output_dim, embedding_dim, drop_prob=0.5)\n",
    "\n",
    "# moving to gpu if available\n",
    "model.to(device) "
   ]
  },
  {
   "cell_type": "code",
   "execution_count": 71,
   "metadata": {},
   "outputs": [
    {
     "name": "stdout",
     "output_type": "stream",
     "text": [
      "SentimentRNN(\n",
      "  (embedding): Embedding(1001, 64)\n",
      "  (lstm): LSTM(64, 256, num_layers=4, batch_first=True)\n",
      "  (dropout): Dropout(p=0.5, inplace=False)\n",
      "  (fc0): Linear(in_features=256, out_features=512, bias=True)\n",
      "  (fc1): Linear(in_features=512, out_features=256, bias=True)\n",
      "  (dropout1): Dropout(p=0.2, inplace=False)\n",
      "  (fc): Linear(in_features=256, out_features=1, bias=True)\n",
      "  (sig): Sigmoid()\n",
      ")\n"
     ]
    }
   ],
   "source": [
    "print(model)"
   ]
  },
  {
   "cell_type": "code",
   "execution_count": 72,
   "metadata": {},
   "outputs": [],
   "source": [
    "def acc(pred, label):\n",
    "    pred = torch.round(pred.squeeze()) # remove extra dimensions\n",
    "    return torch.sum(pred == label.squeeze()).item()  # correct predictions vs label  "
   ]
  },
  {
   "cell_type": "code",
   "execution_count": 73,
   "metadata": {},
   "outputs": [],
   "source": [
    "# hyperparameters for the model\n",
    "lr=0.001 # learning rate\n",
    "criterion = nn.BCELoss() # binary cross entropy for binary classification\n",
    "optimizer = torch.optim.Adam(model.parameters(), lr=lr) # adam optimizer\n",
    " "
   ]
  },
  {
   "cell_type": "code",
   "execution_count": 74,
   "metadata": {},
   "outputs": [],
   "source": [
    "clip = 5 # gradient clipping for exploding gradients\n",
    "epochs = 10 # number of epochs\n",
    "valid_loss_min = np.Inf # setting loss for minimum i.e infinity epochs\n",
    "\n",
    "# train for some number of epochs\n",
    "epoch_tr_loss, epoch_vl_loss = [],[]  # lists for appending per epochs statistics to visualize\n",
    "epoch_tr_acc, epoch_vl_acc = [],[]"
   ]
  },
  {
   "cell_type": "code",
   "execution_count": 75,
   "metadata": {},
   "outputs": [
    {
     "name": "stdout",
     "output_type": "stream",
     "text": [
      "Epoch 1\n",
      "train_loss : 0.660942845582962 val_loss : 0.6931323623657226\n",
      "train_accuracy : 57.08266666666667 val_accuracy : 50.0\n",
      "Validation loss decreased (inf --> 0.693132).  Saving model ...\n",
      "==================================================\n",
      "Epoch 2\n",
      "train_loss : 0.5739843263626099 val_loss : 0.4198133869171143\n",
      "train_accuracy : 66.24 val_accuracy : 81.42399999999999\n",
      "Validation loss decreased (0.693132 --> 0.419813).  Saving model ...\n",
      "==================================================\n",
      "Epoch 3\n",
      "train_loss : 0.3516171337167422 val_loss : 0.32952248632907866\n",
      "train_accuracy : 85.03466666666667 val_accuracy : 85.816\n",
      "Validation loss decreased (0.419813 --> 0.329522).  Saving model ...\n",
      "==================================================\n",
      "Epoch 4\n",
      "train_loss : 0.3104766700764497 val_loss : 0.32020457726716994\n",
      "train_accuracy : 86.93333333333332 val_accuracy : 86.11999999999999\n",
      "Validation loss decreased (0.329522 --> 0.320205).  Saving model ...\n",
      "==================================================\n",
      "Epoch 5\n",
      "train_loss : 0.2843270971775055 val_loss : 0.3208598446846008\n",
      "train_accuracy : 87.97066666666666 val_accuracy : 86.52\n",
      "==================================================\n",
      "Epoch 6\n",
      "train_loss : 0.2547190594424804 val_loss : 0.3216432208120823\n",
      "train_accuracy : 89.47466666666666 val_accuracy : 86.288\n",
      "==================================================\n",
      "Epoch 7\n",
      "train_loss : 0.21717928730448088 val_loss : 0.37364322364330294\n",
      "train_accuracy : 91.304 val_accuracy : 85.56\n",
      "==================================================\n",
      "Epoch 8\n",
      "train_loss : 0.1628501547103127 val_loss : 0.4090800706148148\n",
      "train_accuracy : 93.65599999999999 val_accuracy : 84.8\n",
      "==================================================\n",
      "Epoch 9\n",
      "train_loss : 0.1084889520170788 val_loss : 0.6003963351249695\n",
      "train_accuracy : 96.07466666666666 val_accuracy : 85.16\n",
      "==================================================\n",
      "Epoch 10\n",
      "train_loss : 0.0725896683478107 val_loss : 0.548688069164753\n",
      "train_accuracy : 97.45333333333333 val_accuracy : 85.016\n",
      "==================================================\n"
     ]
    }
   ],
   "source": [
    "for epoch in range(epochs):\n",
    "    train_losses = []\n",
    "    train_acc = 0.0\n",
    "    model.train() # set the model in training mode\n",
    "    # initialize hidden state \n",
    "    h = model.init_hidden(batch_size)\n",
    "    for inputs, labels in train_loader: # training data\n",
    "        inputs, labels = inputs.to(device), labels.to(device)   \n",
    "        # Creating new variables for the hidden state, otherwise\n",
    "        # we'd backprop through the entire training history\n",
    "        h = tuple([each.data for each in h]) \n",
    "\n",
    "        model.zero_grad() # zero gradients before starting the training\n",
    "        output, h = model(inputs, h) # forward pass\n",
    "\n",
    "        # calculate the loss and perform backprop\n",
    "        loss = criterion(output.squeeze(), labels.float()) # criterion loss\n",
    "        loss.backward() # computes loss\n",
    "        train_losses.append(loss.item()) # appending the loss\n",
    "        # calculating accuracy\n",
    "        accuracy = acc(output,labels) \n",
    "        train_acc += accuracy \n",
    "\n",
    "        #`clip_grad_norm` helps prevent the exploding gradient problem in RNNs / LSTMs.\n",
    "        nn.utils.clip_grad_norm_(model.parameters(), clip)\n",
    "        optimizer.step() # improving the loss via optimizer using back prop (ADAM optimizer)\n",
    "\n",
    "    val_h = model.init_hidden(batch_size) # initialize the hidden state\n",
    "    val_losses = []\n",
    "    val_acc = 0.0\n",
    "    model.eval() # Putting model into evaluation mode\n",
    "    for inputs, labels in valid_loader: # validation data\n",
    "        # separate variable for hidden state\n",
    "        val_h = tuple([each.data for each in val_h])\n",
    "\n",
    "        inputs, labels = inputs.to(device), labels.to(device) # checking if gpu or not\n",
    "\n",
    "        output, val_h = model(inputs, val_h) # forward pass\n",
    "        val_loss = criterion(output.squeeze(), labels.float()) # loss\n",
    "\n",
    "        val_losses.append(val_loss.item()) # appending loss\n",
    "\n",
    "        accuracy = acc(output,labels)\n",
    "        val_acc += accuracy\n",
    "\n",
    "    # mean of the loss for calculating epoch loss\n",
    "    epoch_train_loss = np.mean(train_losses)\n",
    "    epoch_val_loss = np.mean(val_losses) # same for validation loss\n",
    "    epoch_train_acc = train_acc / len(train_loader.dataset) # acc for epoch\n",
    "    epoch_val_acc = val_acc / len(valid_loader.dataset) # vali acc for epoch\n",
    "    epoch_tr_loss.append(epoch_train_loss)\n",
    "    epoch_vl_loss.append(epoch_val_loss)\n",
    "    epoch_tr_acc.append(epoch_train_acc)\n",
    "    epoch_vl_acc.append(epoch_val_acc)\n",
    "    print(f'Epoch {epoch + 1}') \n",
    "    print(f'train_loss : {epoch_train_loss} val_loss : {epoch_val_loss}')\n",
    "    print(f'train_accuracy : {epoch_train_acc * 100} val_accuracy : {epoch_val_acc * 100}')\n",
    "    if epoch_val_loss <= valid_loss_min:\n",
    "        # saving the model in dictionary in .pt format\n",
    "        torch.save(model.state_dict(), './working/state_dict.pt') \n",
    "        print('Validation loss decreased ({:.6f} --> {:.6f}).  Saving model ...'.format(valid_loss_min, epoch_val_loss))\n",
    "        valid_loss_min = epoch_val_loss\n",
    "    print(25*'==') # for epoch ending symbol"
   ]
  },
  {
   "cell_type": "code",
   "execution_count": 76,
   "metadata": {},
   "outputs": [
    {
     "data": {
      "image/png": "[encoded data removed]",
      "text/plain": [
       "<Figure size 2000x600 with 2 Axes>"
      ]
     },
     "metadata": {},
     "output_type": "display_data"
    }
   ],
   "source": [
    "fig = plt.figure(figsize = (20, 6))\n",
    "plt.subplot(1, 2, 1)\n",
    "plt.plot(epoch_tr_acc, label='Train Acc') # training list\n",
    "plt.plot(epoch_vl_acc, label='Validation Acc') # validation list\n",
    "plt.title(\"Accuracy\")\n",
    "plt.legend() \n",
    "plt.subplot(1, 2, 2)\n",
    "plt.plot(epoch_tr_loss, label='Train loss') # training loss\n",
    "plt.plot(epoch_vl_loss, label='Validation loss') # validation loss\n",
    "plt.title(\"Loss\")\n",
    "plt.legend()\n",
    "plt.grid() # grid \n",
    "plt.show() # showing the plots"
   ]
  },
  {
   "attachments": {},
   "cell_type": "markdown",
   "metadata": {},
   "source": [
    "- Our model overfits, which can be fixed by regularization, dropout or batch normalization"
   ]
  },
  {
   "cell_type": "code",
   "execution_count": 77,
   "metadata": {},
   "outputs": [],
   "source": [
    "def predict_text(text, vocab=tokenized_output.vocab):\n",
    "    word_seq = np.array([vocab[preprocess_string(word)] for word in text.split() \n",
    "                        if preprocess_string(word) in vocab.keys()]) #preprocess data\n",
    "    word_seq = np.expand_dims(word_seq,axis=0) #expanding the dimensions for lstm\n",
    "    pad =  torch.from_numpy(padding_(word_seq,500)) #padding the sequences\n",
    "    inputs = pad.to(device) #checking if gpu or not\n",
    "    batch_size = 1 #batch size 1 for 1 input at 1 time\n",
    "    h = model.init_hidden(batch_size) #initializing the hidden state\n",
    "    h = tuple([each.data for each in h]) # hidden state variable\n",
    "    output, h = model(inputs, h) #forward pass through the model\n",
    "    return(output.item()) #returning the output from sigmoid "
   ]
  },
  {
   "cell_type": "code",
   "execution_count": 78,
   "metadata": {},
   "outputs": [
    {
     "name": "stdout",
     "output_type": "stream",
     "text": [
      "Many accuse Rod Steiger of overacting, and anyone who has seen the Amityville Horror and the 'fly' section would struggle to say otherwise. That said, he's brilliant in this.<br /><br />It's never on TV, you can't buy it on DVD (legitimately). In 1988, when Channel 4 still had a prescription for innovation, they showed this amongst a small amalgam of 60s films, Privilege etc - and I remember an essentially theatrical experience, transposed well to film. The great thing about theatre is it's enclosed - how do you make it available and interesting on screen? PH just about pulls it off. Because this sort of film is never even on cable or Sky TV anywhere it's hard to get a debate going, but for anyone out there who has seen it or can remember, my memories are of a forthright, almost strident performance by Sally Geeson 'thats all taken care of' (which eschews the almost diffident general performances of her and her sibling in many early 70s offerings) she says ref conception. There are several of these - key lines you remember years, decades on. That's the power of a film like this.<br /><br />PS I just saw it again and its just as good. One day, TV too will be enlightened.\n",
      "================================================================================\n",
      "Actual Sentiment is  positive\n",
      "Predicted Sentiment is  positive  with a probability of  0.9934788942337036\n"
     ]
    }
   ],
   "source": [
    "import random\n",
    "index = random.randint(0,25000)\n",
    "print(df['review'][index])\n",
    "print(80*'=')\n",
    "print(\"Actual Sentiment is \", df['sentiment'][index])\n",
    "pro = predict_text(df['review'][index])\n",
    "sent = 'positive' if pro >=0.5 else 'negative'\n",
    "print(\"Predicted Sentiment is \", sent, \" with a probability of \", pro)"
   ]
  },
  {
   "attachments": {},
   "cell_type": "markdown",
   "metadata": {},
   "source": [
    "# How to Improve the model"
   ]
  },
  {
   "attachments": {},
   "cell_type": "markdown",
   "metadata": {},
   "source": [
    "- We can improve the model via\n",
    "1. Regularization\n",
    "2. Hyperparameter Tuning\n",
    "3. Adding more layers\n",
    "4. Using Bi-Directional LSTMs\n",
    "5. Using Pre-trained Word Embedding such as Glove or Word2Vec, etc."
   ]
  },
  {
   "attachments": {},
   "cell_type": "markdown",
   "metadata": {},
   "source": [
    "# Future todo\n",
    "- [Deploying Sentiment Analysis through k8s](https://app.cnvrg.io/docs/core_concepts/endpoints.html)\n",
    "- [Real-time Sentiment Analysis](https://cnvrg.io/web-services-vs-streaming/)"
   ]
  }
 ],
 "metadata": {
  "kernelspec": {
   "display_name": "venv",
   "language": "python",
   "name": "python3"
  },
  "language_info": {
   "codemirror_mode": {
    "name": "ipython",
    "version": 3
   },
   "file_extension": ".py",
   "mimetype": "text/x-python",
   "name": "python",
   "nbconvert_exporter": "python",
   "pygments_lexer": "ipython3",
   "version": "3.11.3"
  },
  "orig_nbformat": 4
 },
 "nbformat": 4,
 "nbformat_minor": 2
}
